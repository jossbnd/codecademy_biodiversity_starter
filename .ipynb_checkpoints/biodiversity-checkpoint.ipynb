{
 "cells": [
  {
   "cell_type": "code",
   "execution_count": 73,
   "metadata": {
    "scrolled": false
   },
   "outputs": [
    {
     "name": "stdout",
     "output_type": "stream",
     "text": [
      "            scientific_name                            park_name  observations\n",
      "0        Vicia benghalensis  Great Smoky Mountains National Park            68\n",
      "1            Neovison vison  Great Smoky Mountains National Park            77\n",
      "2         Prunus subcordata               Yosemite National Park           138\n",
      "3      Abutilon theophrasti                  Bryce National Park            84\n",
      "4  Githopsis specularioides  Great Smoky Mountains National Park            85\n",
      "\n",
      "\n",
      "  category                scientific_name  \\\n",
      "0   Mammal  Clethrionomys gapperi gapperi   \n",
      "1   Mammal                      Bos bison   \n",
      "2   Mammal                     Bos taurus   \n",
      "3   Mammal                     Ovis aries   \n",
      "4   Mammal                 Cervus elaphus   \n",
      "\n",
      "                                        common_names conservation_status  \n",
      "0                           Gapper's Red-Backed Vole                 NaN  \n",
      "1                              American Bison, Bison                 NaN  \n",
      "2  Aurochs, Aurochs, Domestic Cattle (Feral), Dom...                 NaN  \n",
      "3  Domestic Sheep, Mouflon, Red Sheep, Sheep (Feral)                 NaN  \n",
      "4                                      Wapiti Or Elk                 NaN  \n",
      "[nan 'Species of Concern' 'Endangered' 'Threatened' 'In Recovery']\n",
      "['Mammal' 'Bird' 'Reptile' 'Amphibian' 'Fish' 'Vascular Plant'\n",
      " 'Nonvascular Plant']\n"
     ]
    }
   ],
   "source": [
    "import pandas as pd\n",
    "import numpy as np\n",
    "\n",
    "obs = pd.read_csv('observations.csv')\n",
    "species = pd.read_csv('species_info.csv')\n",
    "\n",
    "print(obs.head())\n",
    "print('\\n')\n",
    "print(species.head())\n",
    "\n",
    "print(species.conservation_status.unique())\n",
    "print(species.category.unique())"
   ]
  },
  {
   "cell_type": "markdown",
   "metadata": {},
   "source": [
    "Cleaning SPECIES\n",
    "1. check nunique conversation_status\n",
    "2. change NaN by No Status\n",
    "3. is duplicate in species\n",
    "4. show duplicates + change if necessary\n",
    "5. drop duplicates scientific_name\n",
    "6. check \n",
    "\n",
    "Cleaning OBS\n",
    "1. print unique park\n",
    "2. look duplicate (normal if park different)\n",
    "3. show that duplicate with same species same park \n",
    "4. hypothesis: treated as different species for unknown reasons so counts needed to be sum up\n",
    "5. drop duplicate but sum them\n",
    "6. check\n",
    "\n",
    "Analysis\n",
    "1. dans chaque status, quelle category d'animal (bar chart en utilisant hue)\n",
    "2. par category voir si ratio 'protegé' sur 'non protegé' logique\n",
    "3. ratio au global\n",
    "4. \n",
    "\n",
    "What is the distribution of conservation_status for animals?\n",
    "Are certain types of species more likely to be endangered?\n",
    "Are the differences between species and their conservation status significant?\n",
    "Which species were spotted the most at each park?\n",
    "\n"
   ]
  },
  {
   "cell_type": "code",
   "execution_count": 72,
   "metadata": {},
   "outputs": [
    {
     "name": "stdout",
     "output_type": "stream",
     "text": [
      "                      index  scientific_name\n",
      "9    Arenaria serpyllifolia                2\n",
      "10        Lasiurus cinereus                2\n",
      "11             Salix exigua                2\n",
      "12                Tyto alba                2\n",
      "13       Cyperus esculentus                2\n",
      "..                      ...              ...\n",
      "269       Crepis capillaris                2\n",
      "270    Arabidopsis thaliana                2\n",
      "271   Sisymbrium officinale                2\n",
      "272      Oxalis corniculata                2\n",
      "273         Thlaspi arvense                2\n",
      "\n",
      "[265 rows x 2 columns]\n",
      "         scientific_name                            park_name  observations\n",
      "2601   Crepis capillaris               Yosemite National Park           148\n",
      "5245   Crepis capillaris  Great Smoky Mountains National Park            70\n",
      "11493  Crepis capillaris            Yellowstone National Park           247\n",
      "11537  Crepis capillaris               Yosemite National Park           126\n",
      "14364  Crepis capillaris            Yellowstone National Park           235\n",
      "14498  Crepis capillaris                  Bryce National Park           116\n",
      "14701  Crepis capillaris                  Bryce National Park            94\n",
      "21266  Crepis capillaris  Great Smoky Mountains National Park            43\n",
      "\n",
      "\n",
      "            category    scientific_name  \\\n",
      "786   Vascular Plant  Crepis capillaris   \n",
      "4743  Vascular Plant  Crepis capillaris   \n",
      "\n",
      "                                common_names conservation_status  \n",
      "786          Hawk's Beard, Smooth Hawksbeard                 NaN  \n",
      "4743  Smooth Hawksbeard, Smooth Hawk's-Beard                 NaN  \n"
     ]
    }
   ],
   "source": [
    "count = species.scientific_name.value_counts().reset_index()\n",
    "print(count[count.scientific_name == 2])\n",
    "print(obs[obs.scientific_name == 'Crepis capillaris'])\n",
    "print('\\n')\n",
    "print(species[species.scientific_name == 'Crepis capillaris'])"
   ]
  }
 ],
 "metadata": {
  "kernelspec": {
   "display_name": "Python 3",
   "language": "python",
   "name": "python3"
  },
  "language_info": {
   "codemirror_mode": {
    "name": "ipython",
    "version": 3
   },
   "file_extension": ".py",
   "mimetype": "text/x-python",
   "name": "python",
   "nbconvert_exporter": "python",
   "pygments_lexer": "ipython3",
   "version": "3.8.8"
  }
 },
 "nbformat": 4,
 "nbformat_minor": 4
}
