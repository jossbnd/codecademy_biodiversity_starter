{
 "cells": [
  {
   "cell_type": "markdown",
   "metadata": {},
   "source": [
    "# 1. Explore the data\n",
    "---\n",
    "\n",
    "Let's first have a look to the datasets"
   ]
  },
  {
   "cell_type": "code",
   "execution_count": 1,
   "metadata": {
    "scrolled": false
   },
   "outputs": [
    {
     "name": "stdout",
     "output_type": "stream",
     "text": [
      "<class 'pandas.core.frame.DataFrame'>\n",
      "RangeIndex: 23296 entries, 0 to 23295\n",
      "Data columns (total 3 columns):\n",
      " #   Column           Non-Null Count  Dtype \n",
      "---  ------           --------------  ----- \n",
      " 0   scientific_name  23296 non-null  object\n",
      " 1   park_name        23296 non-null  object\n",
      " 2   observations     23296 non-null  int64 \n",
      "dtypes: int64(1), object(2)\n",
      "memory usage: 546.1+ KB\n",
      "None\n",
      "\n",
      "\n",
      "<class 'pandas.core.frame.DataFrame'>\n",
      "RangeIndex: 5824 entries, 0 to 5823\n",
      "Data columns (total 4 columns):\n",
      " #   Column               Non-Null Count  Dtype \n",
      "---  ------               --------------  ----- \n",
      " 0   category             5824 non-null   object\n",
      " 1   scientific_name      5824 non-null   object\n",
      " 2   common_names         5824 non-null   object\n",
      " 3   conservation_status  191 non-null    object\n",
      "dtypes: object(4)\n",
      "memory usage: 182.1+ KB\n",
      "None\n"
     ]
    }
   ],
   "source": [
    "# import needed libraries\n",
    "import pandas as pd\n",
    "import numpy as np\n",
    "%matplotlib inline\n",
    "\n",
    "# import data\n",
    "species = pd.read_csv('species_info.csv')\n",
    "obs = pd.read_csv('observations.csv')\n",
    "\n",
    "# have a loof at it\n",
    "print(obs.info())\n",
    "print('\\n')\n",
    "print(species.info())"
   ]
  },
  {
   "cell_type": "markdown",
   "metadata": {},
   "source": [
    "# 2. Clean the data\n",
    "\n",
    "---\n",
    "\n",
    "## 2.1. Clean 'species' dataset\n",
    "\n",
    "---"
   ]
  },
  {
   "cell_type": "code",
   "execution_count": 2,
   "metadata": {},
   "outputs": [
    {
     "name": "stdout",
     "output_type": "stream",
     "text": [
      "[nan 'Species of Concern' 'Endangered' 'Threatened' 'In Recovery']\n",
      "NaN                   5633\n",
      "Species of Concern     161\n",
      "Endangered              16\n",
      "Threatened              10\n",
      "In Recovery              4\n",
      "Name: conservation_status, dtype: int64\n"
     ]
    }
   ],
   "source": [
    "#have a look to the different conservation status and their distribution\n",
    "print(species.conservation_status.unique())\n",
    "print(species.conservation_status.value_counts(dropna=False))"
   ]
  },
  {
   "cell_type": "markdown",
   "metadata": {},
   "source": [
    "A lot of NaN status, it would make more sense to change NaN into No Status "
   ]
  },
  {
   "cell_type": "code",
   "execution_count": 3,
   "metadata": {},
   "outputs": [
    {
     "name": "stdout",
     "output_type": "stream",
     "text": [
      "No Status             5633\n",
      "Species of Concern     161\n",
      "Endangered              16\n",
      "Threatened              10\n",
      "In Recovery              4\n",
      "Name: conservation_status, dtype: int64\n"
     ]
    }
   ],
   "source": [
    "#change NaN to 'No Status'\n",
    "species.conservation_status.fillna('No Status', inplace=True)\n",
    "\n",
    "#check\n",
    "print(species.conservation_status.value_counts())"
   ]
  },
  {
   "cell_type": "markdown",
   "metadata": {},
   "source": [
    "Now, let's have a look to the scientific name"
   ]
  },
  {
   "cell_type": "code",
   "execution_count": 4,
   "metadata": {},
   "outputs": [
    {
     "name": "stdout",
     "output_type": "stream",
     "text": [
      "unique species:  5541\n",
      "total # of rows: 5824\n"
     ]
    }
   ],
   "source": [
    "#find duplicate - suppose to have one single scientific name\n",
    "print('unique species: ', species.scientific_name.nunique())\n",
    "print('total # of rows:', len(species.scientific_name))"
   ]
  },
  {
   "cell_type": "markdown",
   "metadata": {},
   "source": [
    "It appears that we have duplicates, let's find them and look their shape"
   ]
  },
  {
   "cell_type": "code",
   "execution_count": 5,
   "metadata": {},
   "outputs": [
    {
     "name": "stdout",
     "output_type": "stream",
     "text": [
      "     category scientific_name        common_names conservation_status\n",
      "4      Mammal  Cervus elaphus       Wapiti Or Elk           No Status\n",
      "3017   Mammal  Cervus elaphus  Rocky Mountain Elk           No Status\n",
      "\n",
      "\n",
      "     category         scientific_name                          common_names conservation_status\n",
      "5      Mammal  Odocoileus virginianus                     White-Tailed Deer           No Status\n",
      "3019   Mammal  Odocoileus virginianus  White-Tailed Deer, White-Tailed Deer           No Status\n",
      "\n",
      "\n",
      "     category scientific_name                            common_names conservation_status\n",
      "6      Mammal      Sus scrofa                     Feral Hog, Wild Pig           No Status\n",
      "4447   Mammal      Sus scrofa  Pig, Pig (Feral), Wild Boar, Wild Boar           No Status\n",
      "\n",
      "\n",
      "     category scientific_name     common_names conservation_status\n",
      "8      Mammal     Canis lupus        Gray Wolf          Endangered\n",
      "3020   Mammal     Canis lupus  Gray Wolf, Wolf         In Recovery\n",
      "4448   Mammal     Canis lupus  Gray Wolf, Wolf          Endangered\n",
      "\n",
      "\n",
      "     category           scientific_name               common_names conservation_status\n",
      "10     Mammal  Urocyon cinereoargenteus  Common Gray Fox, Gray Fox           No Status\n",
      "4449   Mammal  Urocyon cinereoargenteus                   Gray Fox           No Status\n",
      "\n",
      "\n",
      "     category scientific_name                 common_names conservation_status\n",
      "16     Mammal   Puma concolor      Panther (Mountain Lion)           No Status\n",
      "3022   Mammal   Puma concolor  Cougar, Mountain Lion, Puma           No Status\n",
      "4451   Mammal   Puma concolor                Mountain Lion           No Status\n",
      "\n",
      "\n",
      "     category     scientific_name           common_names conservation_status\n",
      "18     Mammal  Spilogale putorius  Eastern Spotted Skunk           No Status\n",
      "4452   Mammal  Spilogale putorius          Spotted Skunk           No Status\n",
      "\n",
      "\n",
      "... there is more and more, but let's stop here\n"
     ]
    }
   ],
   "source": [
    "pd.set_option('display.width', 1000)\n",
    "\n",
    "#print all the duplicate lines - limited to first 20 otherwise otherwise to much to scroll\n",
    "for name in species.scientific_name.unique()[:20]:\n",
    "    if len(species[species.scientific_name == name]) > 1:\n",
    "        print(species[species.scientific_name == name])\n",
    "        print('\\n')\n",
    "\n",
    "print('... there is more and more, but let\\'s stop here')"
   ]
  },
  {
   "cell_type": "markdown",
   "metadata": {},
   "source": [
    "It is not really a problem to have different common names, we won't really use this column.\n",
    "But it is a problem if there is a conflict in conservation status for the same scientific_name."
   ]
  },
  {
   "cell_type": "code",
   "execution_count": 6,
   "metadata": {},
   "outputs": [
    {
     "name": "stdout",
     "output_type": "stream",
     "text": [
      "     category scientific_name     common_names conservation_status\n",
      "8      Mammal     Canis lupus        Gray Wolf          Endangered\n",
      "3020   Mammal     Canis lupus  Gray Wolf, Wolf         In Recovery\n",
      "4448   Mammal     Canis lupus  Gray Wolf, Wolf          Endangered\n",
      "\n",
      "\n",
      "     category      scientific_name   common_names conservation_status\n",
      "560      Fish  Oncorhynchus mykiss  Rainbow Trout           No Status\n",
      "3283     Fish  Oncorhynchus mykiss  Rainbow Trout          Threatened\n",
      "\n",
      "\n"
     ]
    }
   ],
   "source": [
    "#print all the duplicate lines where we have conflict in conservation status\n",
    "for name in species.scientific_name.unique():\n",
    "    if (len(species[species.scientific_name == name]) > 1) and (species[species.scientific_name == name].conservation_status.nunique() > 1):\n",
    "        print(species[species.scientific_name == name])\n",
    "        print('\\n')"
   ]
  },
  {
   "cell_type": "markdown",
   "metadata": {},
   "source": [
    "There are 2 scientific_name with problem.\n",
    "Let's consider the worst conversation status. 'Endangered' for Canis Lupus and Threatened for 'Oncorhynchus mykiss'."
   ]
  },
  {
   "cell_type": "code",
   "execution_count": 7,
   "metadata": {},
   "outputs": [
    {
     "name": "stdout",
     "output_type": "stream",
     "text": [
      "     category scientific_name     common_names conservation_status\n",
      "8      Mammal     Canis lupus        Gray Wolf          Endangered\n",
      "3020   Mammal     Canis lupus  Gray Wolf, Wolf          Endangered\n",
      "4448   Mammal     Canis lupus  Gray Wolf, Wolf          Endangered\n",
      "\n",
      "\n",
      "     category      scientific_name   common_names conservation_status\n",
      "560      Fish  Oncorhynchus mykiss  Rainbow Trout          Threatened\n",
      "3283     Fish  Oncorhynchus mykiss  Rainbow Trout          Threatened\n"
     ]
    }
   ],
   "source": [
    "# modify conservation_status for homogeneous one\n",
    "species.at[3020, 'conservation_status'] = 'Endangered'\n",
    "species.at[560, 'conservation_status'] = 'Threatened'\n",
    "\n",
    "#check \n",
    "print(species[species.scientific_name == ('Canis lupus')])\n",
    "print('\\n')\n",
    "print(species[species.scientific_name == ('Oncorhynchus mykiss')])"
   ]
  },
  {
   "cell_type": "markdown",
   "metadata": {},
   "source": [
    "Now, we are ready to get rid of duplicates"
   ]
  },
  {
   "cell_type": "code",
   "execution_count": 8,
   "metadata": {},
   "outputs": [
    {
     "name": "stdout",
     "output_type": "stream",
     "text": [
      "            category                scientific_name                                       common_names conservation_status\n",
      "0             Mammal  Clethrionomys gapperi gapperi                           Gapper's Red-Backed Vole           No Status\n",
      "1             Mammal                      Bos bison                              American Bison, Bison           No Status\n",
      "2             Mammal                     Bos taurus  Aurochs, Aurochs, Domestic Cattle (Feral), Dom...           No Status\n",
      "3             Mammal                     Ovis aries  Domestic Sheep, Mouflon, Red Sheep, Sheep (Feral)           No Status\n",
      "4             Mammal                 Cervus elaphus                                      Wapiti Or Elk           No Status\n",
      "...              ...                            ...                                                ...                 ...\n",
      "5819  Vascular Plant               Solanum parishii                                Parish's Nightshade           No Status\n",
      "5820  Vascular Plant                  Solanum xanti            Chaparral Nightshade, Purple Nightshade           No Status\n",
      "5821  Vascular Plant         Parthenocissus vitacea        Thicket Creeper, Virginia Creeper, Woodbine           No Status\n",
      "5822  Vascular Plant              Vitis californica            California Grape, California Wild Grape           No Status\n",
      "5823  Vascular Plant            Tribulus terrestris  Bullhead, Caltrop, Goathead, Mexican Sandbur, ...           No Status\n",
      "\n",
      "[5541 rows x 4 columns]\n"
     ]
    }
   ],
   "source": [
    "#drop duplicate scientific_name, we should obtain 5541 rows\n",
    "species.drop_duplicates(subset='scientific_name', inplace=True)\n",
    "print(species)"
   ]
  },
  {
   "cell_type": "markdown",
   "metadata": {},
   "source": [
    "Now, dataset is ready to be analyzed."
   ]
  },
  {
   "cell_type": "markdown",
   "metadata": {},
   "source": [
    "## 2.1. Clean 'obs' dataset\n",
    "\n",
    "---"
   ]
  },
  {
   "cell_type": "code",
   "execution_count": 9,
   "metadata": {},
   "outputs": [
    {
     "name": "stdout",
     "output_type": "stream",
     "text": [
      "['Great Smoky Mountains National Park' 'Yosemite National Park'\n",
      " 'Bryce National Park' 'Yellowstone National Park']\n"
     ]
    }
   ],
   "source": [
    "# have a look to unique park_name\n",
    "print(obs.park_name.unique())"
   ]
  },
  {
   "cell_type": "markdown",
   "metadata": {},
   "source": [
    "There are observations in 4 parks.\n",
    "\n",
    "So we should have for each species 1 row per park maximum (4 rows at maximum)"
   ]
  },
  {
   "cell_type": "code",
   "execution_count": 10,
   "metadata": {},
   "outputs": [
    {
     "name": "stdout",
     "output_type": "stream",
     "text": [
      "      scientific_name                            park_name  observations\n",
      "1294      Canis lupus               Yosemite National Park            35\n",
      "1766      Canis lupus                  Bryce National Park            27\n",
      "7346      Canis lupus                  Bryce National Park            29\n",
      "9884      Canis lupus                  Bryce National Park            74\n",
      "10190     Canis lupus  Great Smoky Mountains National Park            15\n",
      "10268     Canis lupus            Yellowstone National Park            60\n",
      "10907     Canis lupus            Yellowstone National Park            67\n",
      "13427     Canis lupus            Yellowstone National Park           203\n",
      "17756     Canis lupus  Great Smoky Mountains National Park            14\n",
      "19330     Canis lupus               Yosemite National Park           117\n",
      "19987     Canis lupus               Yosemite National Park            44\n",
      "20353     Canis lupus  Great Smoky Mountains National Park            30\n"
     ]
    }
   ],
   "source": [
    "# look if duplicates\n",
    "print(obs[obs.scientific_name == 'Canis lupus'])"
   ]
  },
  {
   "cell_type": "markdown",
   "metadata": {},
   "source": [
    "Apparenty, we also have duplicates in this dataset with conflict in number of observations.\n",
    "\n",
    "We will take the hypothesis that these observations should be sum up."
   ]
  },
  {
   "cell_type": "code",
   "execution_count": 11,
   "metadata": {},
   "outputs": [
    {
     "name": "stdout",
     "output_type": "stream",
     "text": [
      "     scientific_name                            park_name  observations\n",
      "3216     Canis lupus                  Bryce National Park           130\n",
      "3217     Canis lupus  Great Smoky Mountains National Park            59\n",
      "3218     Canis lupus            Yellowstone National Park           330\n",
      "3219     Canis lupus               Yosemite National Park           196\n"
     ]
    }
   ],
   "source": [
    "# sum duplicates\n",
    "obs = obs.groupby(['scientific_name', 'park_name']).agg('sum').reset_index()\n",
    "\n",
    "# check\n",
    "print(obs[obs.scientific_name == 'Canis lupus'])"
   ]
  },
  {
   "cell_type": "markdown",
   "metadata": {},
   "source": [
    "Cleaning is done, dataset are ready to be analyszed"
   ]
  },
  {
   "cell_type": "markdown",
   "metadata": {},
   "source": [
    "## 3. Analysis\n",
    "\n",
    "---\n",
    "\n",
    "\n",
    "### 3.1 distribution of conservation_status\n",
    "\n",
    "---"
   ]
  },
  {
   "cell_type": "code",
   "execution_count": 12,
   "metadata": {},
   "outputs": [
    {
     "name": "stdout",
     "output_type": "stream",
     "text": [
      "species with a conservation status: 179.\n",
      "\n",
      "\n",
      "             category conservation_status  scientific_name\n",
      "0           Amphibian          Endangered                1\n",
      "1           Amphibian  Species of Concern                4\n",
      "2           Amphibian          Threatened                2\n",
      "3                Bird          Endangered                4\n",
      "4                Bird         In Recovery                3\n",
      "5                Bird  Species of Concern               68\n",
      "6                Fish          Endangered                3\n",
      "7                Fish  Species of Concern                4\n",
      "8                Fish          Threatened                4\n",
      "9              Mammal          Endangered                6\n",
      "10             Mammal  Species of Concern               22\n",
      "11             Mammal          Threatened                2\n",
      "12  Nonvascular Plant  Species of Concern                5\n",
      "13            Reptile  Species of Concern                5\n",
      "14     Vascular Plant          Endangered                1\n",
      "15     Vascular Plant  Species of Concern               43\n",
      "16     Vascular Plant          Threatened                2\n",
      "\n",
      "\n"
     ]
    },
    {
     "data": {
      "image/png": "[encoded data removed]",
      "text/plain": [
       "<Figure size 432x288 with 1 Axes>"
      ]
     },
     "metadata": {
      "needs_background": "light"
     },
     "output_type": "display_data"
    }
   ],
   "source": [
    "# import needed libraries\n",
    "from matplotlib import pyplot as plt\n",
    "import seaborn as sns\n",
    "\n",
    "# remove the species without status to avoid pollution\n",
    "conservation_dist = species[species.conservation_status != 'No Status']\n",
    "# how many does it represents\n",
    "print('species with a conservation status: {}.'.format(len(conservation_dist)))\n",
    "print('\\n')\n",
    "\n",
    "# make a dataframe with counts on scientific_name\n",
    "conservation_dist = conservation_dist.groupby(['category', 'conservation_status']).scientific_name.count().reset_index()\n",
    "print(conservation_dist)\n",
    "print('\\n')\n",
    "\n",
    "# plot the bar chart\n",
    "sns.barplot(data=conservation_dist, x='conservation_status', y='scientific_name', order=['In Recovery', 'Species of Concern', 'Endangered', 'Threatened'], hue='category', hue_order=['Fish', 'Amphibian', 'Nonvascular Plant', 'Reptile', 'Mammal', 'Vascular Plant', 'Bird'])\n",
    "plt.legend(loc=1)\n",
    "plt.xlabel('# of species')\n",
    "plt.ylabel('conservation_status')\n",
    "plt.title('Protected species among the 4 National Parks')\n",
    "plt.show()\n",
    "\n"
   ]
  },
  {
   "cell_type": "markdown",
   "metadata": {},
   "source": [
    "Most of 179 species with status are 'species of concern'. \n",
    "The first three categories of species of concern are Birds, Vascular Plant and Mammal."
   ]
  },
  {
   "cell_type": "markdown",
   "metadata": {},
   "source": [
    "### 3.2. likeliness of certain types of species to be under protection status\n",
    "\n",
    "---"
   ]
  },
  {
   "cell_type": "code",
   "execution_count": 13,
   "metadata": {},
   "outputs": [
    {
     "name": "stdout",
     "output_type": "stream",
     "text": [
      "            category                scientific_name                                       common_names conservation_status\n",
      "0             Mammal  Clethrionomys gapperi gapperi                           Gapper's Red-Backed Vole           No Status\n",
      "1             Mammal                      Bos bison                              American Bison, Bison           No Status\n",
      "2             Mammal                     Bos taurus  Aurochs, Aurochs, Domestic Cattle (Feral), Dom...           No Status\n",
      "3             Mammal                     Ovis aries  Domestic Sheep, Mouflon, Red Sheep, Sheep (Feral)           No Status\n",
      "4             Mammal                 Cervus elaphus                                      Wapiti Or Elk           No Status\n",
      "...              ...                            ...                                                ...                 ...\n",
      "5819  Vascular Plant               Solanum parishii                                Parish's Nightshade           No Status\n",
      "5820  Vascular Plant                  Solanum xanti            Chaparral Nightshade, Purple Nightshade           No Status\n",
      "5821  Vascular Plant         Parthenocissus vitacea        Thicket Creeper, Virginia Creeper, Woodbine           No Status\n",
      "5822  Vascular Plant              Vitis californica            California Grape, California Wild Grape           No Status\n",
      "5823  Vascular Plant            Tribulus terrestris  Bullhead, Caltrop, Goathead, Mexican Sandbur, ...           No Status\n",
      "\n",
      "[5541 rows x 4 columns]\n",
      "conservation_status  No Status  Status   All\n",
      "category                                    \n",
      "All                       5362     179  5541\n",
      "Bird                       413      75   488\n",
      "Vascular Plant            4216      46  4262\n",
      "Mammal                     146      30   176\n",
      "Fish                       114      11   125\n",
      "Amphibian                   72       7    79\n",
      "Nonvascular Plant          328       5   333\n",
      "Reptile                     73       5    78\n"
     ]
    }
   ],
   "source": [
    "# compare species with a proctection status and the ones without\n",
    "# change all status to a single one called 'Status'\n",
    "species_status = species.replace(['Endangered', 'Species of Concern', 'In Recovery', 'Threatened'], 'Status')\n",
    "print(species_status)\n",
    "\n",
    "# pivot to see the distribution among categories\n",
    "species_status_pivot = pd.pivot_table(species_status, index='category', columns='conservation_status', values='scientific_name', aggfunc='count', margins=True)\n",
    "species_status_pivot.sort_values(by='Status', ascending=False, inplace=True)\n",
    "print(species_status_pivot)\n",
    "\n"
   ]
  },
  {
   "cell_type": "markdown",
   "metadata": {},
   "source": [
    "We will now run a hypothesis test to compare each category to the ALL and see if a species is more likely to be endangered.\n",
    "\n",
    "* hyp null: category X has same chances to be under status compared to ALL species\n",
    "* hyp alt: category X is not associated with ALL species"
   ]
  },
  {
   "cell_type": "code",
   "execution_count": 14,
   "metadata": {},
   "outputs": [
    {
     "name": "stdout",
     "output_type": "stream",
     "text": [
      "conservation_status  No Status  Status\n",
      "category                              \n",
      "All                       5362     179\n",
      "Bird                       413      75\n",
      "Vascular Plant            4216      46\n",
      "Mammal                     146      30\n",
      "Fish                       114      11\n",
      "Amphibian                   72       7\n",
      "Nonvascular Plant          328       5\n",
      "Reptile                     73       5\n",
      "\n",
      "\n"
     ]
    }
   ],
   "source": [
    "# import needed library to do hypothesis test\n",
    "from scipy.stats import chi2_contingency\n",
    "\n",
    "# drop the column All\n",
    "species_status_pivot2 = species_status_pivot.drop('All', axis=1)\n",
    "print(species_status_pivot2)\n",
    "print('\\n')"
   ]
  },
  {
   "cell_type": "code",
   "execution_count": 15,
   "metadata": {},
   "outputs": [
    {
     "name": "stdout",
     "output_type": "stream",
     "text": [
      "conservation_status  No Status  Status\n",
      "category                              \n",
      "All                       5362     179\n",
      "Bird                       413      75\n",
      "7.723449629751259e-37\n",
      "[[5307.55929673  233.44070327]\n",
      " [ 467.44070327   20.55929673]]\n",
      "Categories are independants\n",
      "Bird category is more likely to be endangered than total of species observed.\n",
      "\n",
      "\n",
      "conservation_status  No Status  Status\n",
      "category                              \n",
      "All                       5362     179\n",
      "Vascular Plant            4216      46\n",
      "2.8989115202016285e-12\n",
      "[[5413.82209528  127.17790472]\n",
      " [4164.17790472   97.82209528]]\n",
      "Categories are independants\n",
      "Vascular Plant category is less likely to be endangered than total of species observed.\n",
      "\n",
      "\n",
      "conservation_status  No Status  Status\n",
      "category                              \n",
      "All                       5362     179\n",
      "Mammal                     146      30\n",
      "4.9493889009621755e-21\n",
      "[[5338.43414378  202.56585622]\n",
      " [ 169.56585622    6.43414378]]\n",
      "Categories are independants\n",
      "Mammal category is more likely to be endangered than total of species observed.\n",
      "\n",
      "\n",
      "conservation_status  No Status  Status\n",
      "category                              \n",
      "All                       5362     179\n",
      "Fish                       114      11\n",
      "0.001527746089955075\n",
      "[[5.35519167e+03 1.85808330e+02]\n",
      " [1.20808330e+02 4.19166961e+00]]\n",
      "Categories are independants\n",
      "Fish category is more likely to be endangered than total of species observed.\n",
      "\n",
      "\n",
      "conservation_status  No Status  Status\n",
      "category                              \n",
      "All                       5362     179\n",
      "Amphibian                   72       7\n",
      "0.013853784966005726\n",
      "[[5.35761459e+03 1.83385409e+02]\n",
      " [7.63854093e+01 2.61459075e+00]]\n",
      "Categories are independants\n",
      "Amphibian category is more likely to be endangered than total of species observed.\n",
      "\n",
      "\n",
      "conservation_status  No Status  Status\n",
      "category                              \n",
      "All                       5362     179\n",
      "Nonvascular Plant          328       5\n",
      "0.11022116069979947\n",
      "[[5367.43105209  173.56894791]\n",
      " [ 322.56894791   10.43105209]]\n",
      "Categories are associated.\n",
      "There is an equal likelihood to be endangered than total of species observed.\n",
      "\n",
      "\n",
      "conservation_status  No Status  Status\n",
      "category                              \n",
      "All                       5362     179\n",
      "Reptile                     73       5\n",
      "0.21253204939229353\n",
      "[[5.35955419e+03 1.81445809e+02]\n",
      " [7.54458089e+01 2.55419114e+00]]\n",
      "Categories are associated.\n",
      "There is an equal likelihood to be endangered than total of species observed.\n",
      "\n",
      "\n"
     ]
    }
   ],
   "source": [
    "# loop to display contingency table for all categories compared to All and run a hypothesis test\n",
    "significant_threshold = 0.05\n",
    "\n",
    "for category in species_status_pivot2.index[1:]:\n",
    "    print(species_status_pivot2.loc[['All', category]])\n",
    "    chi2, pval, dof, exp = chi2_contingency(species_status_pivot2.loc[['All', category]])\n",
    "    print(pval)\n",
    "    print(exp)\n",
    "    if pval <= significant_threshold:\n",
    "        print('Categories are independants')\n",
    "        if species_status_pivot2.loc[category].Status >= exp[1][1]:\n",
    "            print(category, 'category is more likely to be endangered than total of species observed.')\n",
    "        else:\n",
    "            print(category, 'category is less likely to be endangered than total of species observed.')\n",
    "    else:\n",
    "        print('Categories are associated.')\n",
    "        print('There is an equal likelihood to be endangered than total of species observed.')\n",
    "    print('\\n')\n",
    "    \n",
    "\n",
    "\n"
   ]
  },
  {
   "cell_type": "code",
   "execution_count": 16,
   "metadata": {},
   "outputs": [
    {
     "name": "stdout",
     "output_type": "stream",
     "text": [
      "conservation_status  No Status  Status\n",
      "category                              \n",
      "Reptile                     73       5\n",
      "Mammal                     146      30\n",
      "pval =  0.03835559022969898\n",
      "\n",
      "\n",
      "conservation_status  No Status  Status\n",
      "category                              \n",
      "Mammal                     146      30\n",
      "Bird                       413      75\n",
      "pval =  0.6875948096661336\n",
      "\n",
      "\n"
     ]
    }
   ],
   "source": [
    "#fonction to run hypothesis test between 2 differents species\n",
    "def conv_status_diff(category1, category2):\n",
    "    print(species_status_pivot2.loc[[category1, category2]])\n",
    "    chi2, pval, dof, exp = chi2_contingency(species_status_pivot2.loc[[category1, category2]])\n",
    "    print('pval = ', pval)\n",
    "    print('\\n')\n",
    "\n",
    "conv_status_diff('Reptile', 'Mammal')\n",
    "conv_status_diff('Mammal', 'Bird')"
   ]
  },
  {
   "cell_type": "markdown",
   "metadata": {},
   "source": [
    "### 3.3. What are the most observed species in each park\n",
    "\n",
    "---"
   ]
  },
  {
   "cell_type": "code",
   "execution_count": 17,
   "metadata": {},
   "outputs": [
    {
     "name": "stdout",
     "output_type": "stream",
     "text": [
      "                              park_name           category  observations\n",
      "27               Yosemite National Park     Vascular Plant        665461\n",
      "22               Yosemite National Park               Bird         76207\n",
      "25               Yosemite National Park  Nonvascular Plant         49783\n",
      "24               Yosemite National Park             Mammal         30339\n",
      "23               Yosemite National Park               Fish         18615\n",
      "26               Yosemite National Park            Reptile         11483\n",
      "21               Yosemite National Park          Amphibian         11444\n",
      "20            Yellowstone National Park     Vascular Plant       1112927\n",
      "15            Yellowstone National Park               Bird        127251\n",
      "18            Yellowstone National Park  Nonvascular Plant         83021\n",
      "17            Yellowstone National Park             Mammal         50795\n",
      "16            Yellowstone National Park               Fish         30574\n",
      "19            Yellowstone National Park            Reptile         19554\n",
      "14            Yellowstone National Park          Amphibian         19440\n",
      "13  Great Smoky Mountains National Park     Vascular Plant        333619\n",
      "8   Great Smoky Mountains National Park               Bird         37728\n",
      "11  Great Smoky Mountains National Park  Nonvascular Plant         24857\n",
      "10  Great Smoky Mountains National Park             Mammal         15012\n",
      "9   Great Smoky Mountains National Park               Fish          9206\n",
      "7   Great Smoky Mountains National Park          Amphibian          5707\n",
      "12  Great Smoky Mountains National Park            Reptile          5691\n",
      "6                   Bryce National Park     Vascular Plant        443083\n",
      "1                   Bryce National Park               Bird         51647\n",
      "4                   Bryce National Park  Nonvascular Plant         32992\n",
      "3                   Bryce National Park             Mammal         20550\n",
      "2                   Bryce National Park               Fish         12423\n",
      "5                   Bryce National Park            Reptile          7950\n",
      "0                   Bryce National Park          Amphibian          7380\n",
      "\n",
      "\n",
      "park_name                            category         \n",
      "Yosemite National Park               Vascular Plant        665461\n",
      "                                     Bird                   76207\n",
      "                                     Nonvascular Plant      49783\n",
      "                                     Mammal                 30339\n",
      "                                     Fish                   18615\n",
      "                                     Reptile                11483\n",
      "                                     Amphibian              11444\n",
      "Yellowstone National Park            Vascular Plant       1112927\n",
      "                                     Bird                  127251\n",
      "                                     Nonvascular Plant      83021\n",
      "                                     Mammal                 50795\n",
      "                                     Fish                   30574\n",
      "                                     Reptile                19554\n",
      "                                     Amphibian              19440\n",
      "Great Smoky Mountains National Park  Vascular Plant        333619\n",
      "                                     Bird                   37728\n",
      "                                     Nonvascular Plant      24857\n",
      "                                     Mammal                 15012\n",
      "                                     Fish                    9206\n",
      "                                     Amphibian               5707\n",
      "                                     Reptile                 5691\n",
      "Bryce National Park                  Vascular Plant        443083\n",
      "                                     Bird                   51647\n",
      "                                     Nonvascular Plant      32992\n",
      "                                     Mammal                 20550\n",
      "                                     Fish                   12423\n",
      "                                     Reptile                 7950\n",
      "                                     Amphibian               7380\n",
      "Name: observations, dtype: int64\n"
     ]
    }
   ],
   "source": [
    "# group by\n",
    "\n",
    "# merge the two datasets on scientific_names to have the categories\n",
    "joined_datasets = pd.merge(obs, species[['scientific_name','category']], on='scientific_name')\n",
    "\n",
    "# groupby park_name and category and sort all the values to have a proper results at the end\n",
    "joined_datasets2 = joined_datasets.groupby(['park_name', 'category'])['observations'].sum().reset_index().sort_values(['park_name', 'observations'], ascending=False)\n",
    "\n",
    "\n",
    "# groupby once more for a clean result\n",
    "joined_datasets3 = joined_datasets2.groupby(['park_name', 'category'], sort=False)['observations'].sum()\n",
    "\n",
    "\n",
    "print(joined_datasets2)\n",
    "print('\\n')\n",
    "print(joined_datasets3)"
   ]
  }
 ],
 "metadata": {
  "kernelspec": {
   "display_name": "Python 3",
   "language": "python",
   "name": "python3"
  },
  "language_info": {
   "codemirror_mode": {
    "name": "ipython",
    "version": 3
   },
   "file_extension": ".py",
   "mimetype": "text/x-python",
   "name": "python",
   "nbconvert_exporter": "python",
   "pygments_lexer": "ipython3",
   "version": "3.8.8"
  }
 },
 "nbformat": 4,
 "nbformat_minor": 4
}
